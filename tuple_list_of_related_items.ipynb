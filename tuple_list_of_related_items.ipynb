{
  "nbformat": 4,
  "nbformat_minor": 0,
  "metadata": {
    "colab": {
      "name": "tuple_list_of_related_items.ipynb",
      "provenance": [],
      "collapsed_sections": []
    },
    "kernelspec": {
      "name": "python3",
      "display_name": "Python 3"
    }
  },
  "cells": [
    {
      "cell_type": "code",
      "metadata": {
        "id": "zrZUOX58XxAO",
        "colab_type": "code",
        "colab": {
          "base_uri": "https://localhost:8080/",
          "height": 36
        },
        "outputId": "8d5c2c7f-ef3d-489b-ff79-3b29f2b093d6"
      },
      "source": [
        "#input is a list of tuples\n",
        "tuplelist = [['item0', 'item1'],\n",
        "             ['item1', 'item2'],\n",
        "             ['item3', 'item4'],\n",
        "             ['item4', 'item5'],\n",
        "             ['item2', 'item6'],\n",
        "             ['item7', 'item8'],\n",
        "             ['item9', 'item10'],\n",
        "             ['item2', 'item9']]\n",
        "\n",
        "len(tuplelist)"
      ],
      "execution_count": 1,
      "outputs": [
        {
          "output_type": "execute_result",
          "data": {
            "text/plain": [
              "8"
            ]
          },
          "metadata": {
            "tags": []
          },
          "execution_count": 1
        }
      ]
    },
    {
      "cell_type": "code",
      "metadata": {
        "id": "db5Vc1rDZegG",
        "colab_type": "code",
        "colab": {}
      },
      "source": [
        "a = [[0 for x in range(len(tuplelist)*2)] for x in range(len(tuplelist)*2)] # make an len(queries) x n matrix list"
      ],
      "execution_count": 2,
      "outputs": []
    },
    {
      "cell_type": "code",
      "metadata": {
        "id": "ZR0ed-UaZrCq",
        "colab_type": "code",
        "colab": {
          "base_uri": "https://localhost:8080/",
          "height": 36
        },
        "outputId": "ab5f9bcf-0970-4f5a-f9eb-ffb215a466df"
      },
      "source": [
        "# cause everything needs a label and a matrix to work with \n",
        "\n",
        "items = []\n",
        "items2 = []\n",
        "for i in range(len(tuplelist)):\n",
        "    a[i+1] = a[i]\n",
        "    for j in range(len(tuplelist[i])):\n",
        "      items.append(tuplelist[i][j])\n",
        "      \n",
        "items = list( dict.fromkeys(items) ) \n",
        "print(items)"
      ],
      "execution_count": 3,
      "outputs": [
        {
          "output_type": "stream",
          "text": [
            "['item0', 'item1', 'item2', 'item3', 'item4', 'item5', 'item6', 'item7', 'item8', 'item9', 'item10']\n"
          ],
          "name": "stdout"
        }
      ]
    },
    {
      "cell_type": "code",
      "metadata": {
        "id": "9r37JwxQYR4T",
        "colab_type": "code",
        "colab": {}
      },
      "source": [
        "items2 = list(range(0, len(items)))\n",
        "a = [[0 for x in range(len(items2))] for x in range(len(items2))] # make an len(queries) x n matrix list\n"
      ],
      "execution_count": 4,
      "outputs": []
    },
    {
      "cell_type": "code",
      "metadata": {
        "id": "aeiqwj0cYYcN",
        "colab_type": "code",
        "colab": {}
      },
      "source": [
        "# to convert lists to dictionary \n",
        "res = {items[i]: items2[i] for i in range(len(items))} \n",
        "inv_map = {items2[i]: items[i] for i in range(len(items2))} \n"
      ],
      "execution_count": 5,
      "outputs": []
    },
    {
      "cell_type": "code",
      "metadata": {
        "id": "nhuIbjEPZEpN",
        "colab_type": "code",
        "colab": {}
      },
      "source": [
        "#iterate through tuple and mark x or y for refference \n",
        "for i in range(len(tuplelist)):\n",
        " # print(tuplelist[i])\n",
        "  x, y =tuplelist[i][0], tuplelist[i][1]\n",
        "  (a[res[x]][res[y]]) ='x'\n",
        "  (a[res[y]][res[x]]) ='y'\n"
      ],
      "execution_count": 6,
      "outputs": []
    },
    {
      "cell_type": "code",
      "metadata": {
        "id": "YssEWObIYiF9",
        "colab_type": "code",
        "colab": {}
      },
      "source": [
        "def columValues(a, itr): \n",
        "  '''\n",
        "  finds the Column number in array a \n",
        "  '''\n",
        "  testing = []\n",
        "  for jtr in range(len(a)):\n",
        "    if a[itr][jtr] !=0:\n",
        "      testing.append(jtr)\n",
        "  return testing"
      ],
      "execution_count": 7,
      "outputs": []
    },
    {
      "cell_type": "code",
      "metadata": {
        "id": "zgHTQe4NZTTy",
        "colab_type": "code",
        "colab": {}
      },
      "source": [
        "alist = []\n",
        "blist = []\n",
        "longest =[]\n",
        "flag = True\n",
        "\n",
        "for row in range(len(a[0])):\n",
        "  blist = [row]  \n",
        "#  print('row',row)\n",
        "  i, flag = 0, True\n",
        "  while flag ==True:\n",
        "      blist = list( dict.fromkeys(blist) )   # get rid if duplicate items\n",
        "      #print('start: ', flag,'\\ti', i,'length of blist', len(blist))\n",
        "            \n",
        "      alist = (columValues(a,blist[i]))\n",
        "      #print(\"alist\", alist)\n",
        "      for x in alist:\n",
        "        blist.append(x)\n",
        "      #print('blist', blist, '\\nlength ', len(blist))\n",
        "      blist = list( dict.fromkeys(blist) )   # get rid if duplicate items\n",
        "\n",
        "      if i >=len(blist)-1:    #flag for when iterated through everything\n",
        "        flag = False\n",
        "      i+=1\n",
        "\n",
        "  blist = list( dict.fromkeys(blist) ) \n",
        "  if len(blist) > len(longest):\n",
        "    longest = blist\n"
      ],
      "execution_count": 8,
      "outputs": []
    },
    {
      "cell_type": "code",
      "metadata": {
        "id": "geKcAArVXczm",
        "colab_type": "code",
        "colab": {
          "base_uri": "https://localhost:8080/",
          "height": 36
        },
        "outputId": "2c26031f-6a36-436c-fdb9-4cca21a41c4f"
      },
      "source": [
        "ans = []\n",
        "for x in longest:\n",
        "  ans.append(inv_map[x])\n",
        "ans"
      ],
      "execution_count": 9,
      "outputs": [
        {
          "output_type": "execute_result",
          "data": {
            "text/plain": [
              "['item0', 'item1', 'item2', 'item6', 'item9', 'item10']"
            ]
          },
          "metadata": {
            "tags": []
          },
          "execution_count": 9
        }
      ]
    },
    {
      "cell_type": "code",
      "metadata": {
        "id": "sRDx_ZjVZWvb",
        "colab_type": "code",
        "colab": {
          "base_uri": "https://localhost:8080/",
          "height": 36
        },
        "outputId": "2ab89448-6494-4f48-cb9a-c2881ed92273"
      },
      "source": [
        "print(f'the longest list is {ans} with a length of {len(longest)} items')"
      ],
      "execution_count": 10,
      "outputs": [
        {
          "output_type": "stream",
          "text": [
            "the longest list is ['item0', 'item1', 'item2', 'item6', 'item9', 'item10'] with a length of 6 items\n"
          ],
          "name": "stdout"
        }
      ]
    },
    {
      "cell_type": "code",
      "metadata": {
        "id": "X1MU1oN8ZZWz",
        "colab_type": "code",
        "colab": {
          "base_uri": "https://localhost:8080/",
          "height": 166
        },
        "outputId": "de32db44-185a-4765-cd0d-dbe37352347f"
      },
      "source": [
        "tuplelist"
      ],
      "execution_count": 11,
      "outputs": [
        {
          "output_type": "execute_result",
          "data": {
            "text/plain": [
              "[['item0', 'item1'],\n",
              " ['item1', 'item2'],\n",
              " ['item3', 'item4'],\n",
              " ['item4', 'item5'],\n",
              " ['item2', 'item6'],\n",
              " ['item7', 'item8'],\n",
              " ['item9', 'item10'],\n",
              " ['item2', 'item9']]"
            ]
          },
          "metadata": {
            "tags": []
          },
          "execution_count": 11
        }
      ]
    },
    {
      "cell_type": "code",
      "metadata": {
        "id": "yW-zChB7Z4Wx",
        "colab_type": "code",
        "colab": {}
      },
      "source": [
        ""
      ],
      "execution_count": 11,
      "outputs": []
    }
  ]
}