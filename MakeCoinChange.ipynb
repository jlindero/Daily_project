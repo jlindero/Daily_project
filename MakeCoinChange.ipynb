{
 "cells": [
  {
   "cell_type": "markdown",
   "metadata": {},
   "source": [
    "Find the minimum number of coins required to make n cents.\n",
    "\n",
    "You can use standard American denominations, that is, 1¢, 5¢, 10¢, and 25¢.\n",
    "\n",
    "For example, given n = 16, return 3 since we can make it with a 10¢, a 5¢, and a 1¢."
   ]
  },
  {
   "cell_type": "code",
   "execution_count": 16,
   "metadata": {},
   "outputs": [],
   "source": [
    "def quarter(n):\n",
    "    return int(n/25)\n",
    "def dime(n):\n",
    "    return int(n/10)\n",
    "def nickel(n):\n",
    "    return int(n/5)"
   ]
  },
  {
   "cell_type": "code",
   "execution_count": 59,
   "metadata": {},
   "outputs": [],
   "source": [
    "def MakeChange(n):\n",
    "    n=n*100\n",
    "    change = []\n",
    "    change.append(quarter(n))\n",
    "    n = n-quarter(n)*25\n",
    "    \n",
    "    change.append(dime(n))\n",
    "    n = n-dime(n)*10    \n",
    "    \n",
    "    change.append(nickel(n))\n",
    "    n = n-nickel(n)*5  \n",
    "    \n",
    "    change.append(n)\n",
    "    \n",
    "    print(f\"There will be {n} pennie(s) {change[2]} nickel(s) {change[1]} dime(s) {change[0]} quarter(s)\")\n",
    "    print(sum(change)+n, 'coins')\n",
    "    return change"
   ]
  },
  {
   "cell_type": "code",
   "execution_count": 61,
   "metadata": {},
   "outputs": [
    {
     "name": "stdout",
     "output_type": "stream",
     "text": [
      "There will be 2.0 pennie(s) 0 nickel(s) 2 dime(s) 21 quarter(s)\n",
      "27.0 coins\n"
     ]
    },
    {
     "data": {
      "text/plain": [
       "[21, 2, 0, 2.0]"
      ]
     },
     "execution_count": 61,
     "metadata": {},
     "output_type": "execute_result"
    }
   ],
   "source": [
    "MakeChange(5.47)"
   ]
  },
  {
   "cell_type": "code",
   "execution_count": null,
   "metadata": {
    "collapsed": true
   },
   "outputs": [],
   "source": []
  },
  {
   "cell_type": "code",
   "execution_count": null,
   "metadata": {
    "collapsed": true
   },
   "outputs": [],
   "source": []
  }
 ],
 "metadata": {
  "kernelspec": {
   "display_name": "Python 3",
   "language": "python",
   "name": "python3"
  },
  "language_info": {
   "codemirror_mode": {
    "name": "ipython",
    "version": 3
   },
   "file_extension": ".py",
   "mimetype": "text/x-python",
   "name": "python",
   "nbconvert_exporter": "python",
   "pygments_lexer": "ipython3",
   "version": "3.6.3"
  }
 },
 "nbformat": 4,
 "nbformat_minor": 2
}
