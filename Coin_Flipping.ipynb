{
 "cells": [
  {
   "cell_type": "markdown",
   "metadata": {},
   "source": [
    "You have 'n' fair coins and you flip them all at the same time. \n",
    "Any that come up heads you set aside. \n",
    "The ones that come up tails you flip again. \n",
    "\n",
    "How many rounds do you to play before only one or none remains?\n",
    "\n",
    "Write a function that:\n",
    "    given n, returns the number of rounds to played.\n"
   ]
  },
  {
   "cell_type": "markdown",
   "metadata": {},
   "source": [
    "just realized i did this backwards simple swap of either code or problem to adjust for personl use later\n"
   ]
  },
  {
   "cell_type": "code",
   "execution_count": 1,
   "metadata": {
    "collapsed": true
   },
   "outputs": [],
   "source": [
    "import random\n",
    "import itertools\n",
    "N=500000"
   ]
  },
  {
   "cell_type": "code",
   "execution_count": 2,
   "metadata": {
    "collapsed": true
   },
   "outputs": [],
   "source": [
    "results = {\n",
    "    'heads': 0,\n",
    "    'tails': 2,}  #create the dictionary to hold the values and this allows for the while condition to \n",
    "                    #stay true"
   ]
  },
  {
   "cell_type": "code",
   "execution_count": 3,
   "metadata": {},
   "outputs": [],
   "source": [
    "def flip_results(n):\n",
    "    sides = list(results.keys())\n",
    "    results['tails']  =  0\n",
    "    \n",
    "    for i in range(n):\n",
    "        results[random.choice(sides)] += 1\n",
    "\n",
    "    print('Heads:', results['heads'])\n",
    "    print('Tails:', results['tails'])\n",
    "    \n",
    "    return results['tails']\n",
    "    "
   ]
  },
  {
   "cell_type": "code",
   "execution_count": 4,
   "metadata": {},
   "outputs": [],
   "source": [
    "def flips_times(N):\n",
    "\n",
    "    tails, i = N, 0\n",
    "\n",
    "    while results['tails'] > 1:\n",
    "        tails = flip_results(tails)\n",
    "        i+=1\n",
    "    return i"
   ]
  },
  {
   "cell_type": "code",
   "execution_count": 5,
   "metadata": {},
   "outputs": [
    {
     "name": "stdout",
     "output_type": "stream",
     "text": [
      "Heads: 255\n",
      "Tails: 245\n",
      "Heads: 376\n",
      "Tails: 124\n",
      "Heads: 432\n",
      "Tails: 68\n",
      "Heads: 467\n",
      "Tails: 33\n",
      "Heads: 486\n",
      "Tails: 14\n",
      "Heads: 496\n",
      "Tails: 4\n",
      "Heads: 498\n",
      "Tails: 2\n",
      "Heads: 498\n",
      "Tails: 2\n",
      "Heads: 499\n",
      "Tails: 1\n"
     ]
    },
    {
     "data": {
      "text/plain": [
       "9"
      ]
     },
     "execution_count": 5,
     "metadata": {},
     "output_type": "execute_result"
    }
   ],
   "source": [
    "flips_times(500)"
   ]
  },
  {
   "cell_type": "code",
   "execution_count": null,
   "metadata": {
    "collapsed": true
   },
   "outputs": [],
   "source": []
  }
 ],
 "metadata": {
  "kernelspec": {
   "display_name": "Python 3",
   "language": "python",
   "name": "python3"
  },
  "language_info": {
   "codemirror_mode": {
    "name": "ipython",
    "version": 3
   },
   "file_extension": ".py",
   "mimetype": "text/x-python",
   "name": "python",
   "nbconvert_exporter": "python",
   "pygments_lexer": "ipython3",
   "version": "3.6.3"
  }
 },
 "nbformat": 4,
 "nbformat_minor": 2
}
