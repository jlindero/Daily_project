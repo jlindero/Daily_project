{
 "cells": [
  {
   "cell_type": "markdown",
   "metadata": {},
   "source": [
    "Given an integer list where each number represents the number of hops you can make, determine whether you can reach to the last index starting at index 0.\n",
    "\n",
    "For example, [2, 0, 1, 0] returns True while [1, 1, 0, 1] returns False.\n"
   ]
  },
  {
   "cell_type": "code",
   "execution_count": 40,
   "metadata": {
    "collapsed": true
   },
   "outputs": [],
   "source": [
    "def minJumps(arr):\n",
    "    n = len(arr)\n",
    "    jumps = [0 for i in range(n)] \n",
    "    \n",
    "    #declare if given an impossible \n",
    "    if (n == 0) or (arr[0] == 0): \n",
    "        return float('inf') \n",
    "  \n",
    "    jumps[0] = 0\n",
    "  \n",
    "    # Find the minimum number of  \n",
    "    # jumps to reach arr[i] from  \n",
    "    # arr[0] and assign this  \n",
    "    # value to jumps[i] \n",
    "    for i in range(1, n): \n",
    "        jumps[i] = float('inf') \n",
    "        for j in range(i): \n",
    "            if (i <= j + arr[j]) and (jumps[j] != float('inf')): \n",
    "                jumps[i] = min(jumps[i], jumps[j] + 1) \n",
    "                break\n",
    "    return jumps[n-1] "
   ]
  },
  {
   "cell_type": "code",
   "execution_count": 41,
   "metadata": {},
   "outputs": [
    {
     "data": {
      "text/plain": [
       "3"
      ]
     },
     "execution_count": 41,
     "metadata": {},
     "output_type": "execute_result"
    }
   ],
   "source": [
    "T = [3, 13, 0, 0, 0, 0, 1, 3, 1, 1, 1, 1, 1, 0, 4, 2, 9] \n",
    "\n",
    "minJumps(T)"
   ]
  },
  {
   "cell_type": "code",
   "execution_count": null,
   "metadata": {
    "collapsed": true
   },
   "outputs": [],
   "source": []
  }
 ],
 "metadata": {
  "kernelspec": {
   "display_name": "Python 3",
   "language": "python",
   "name": "python3"
  },
  "language_info": {
   "codemirror_mode": {
    "name": "ipython",
    "version": 3
   },
   "file_extension": ".py",
   "mimetype": "text/x-python",
   "name": "python",
   "nbconvert_exporter": "python",
   "pygments_lexer": "ipython3",
   "version": "3.6.3"
  }
 },
 "nbformat": 4,
 "nbformat_minor": 2
}
